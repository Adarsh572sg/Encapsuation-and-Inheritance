{
  "nbformat": 4,
  "nbformat_minor": 0,
  "metadata": {
    "colab": {
      "private_outputs": true,
      "provenance": []
    },
    "kernelspec": {
      "name": "python3",
      "display_name": "Python 3"
    },
    "language_info": {
      "name": "python"
    }
  },
  "cells": [
    {
      "cell_type": "markdown",
      "source": [
        "# 1 Product class"
      ],
      "metadata": {
        "id": "X34JyNTJ06Lh"
      }
    },
    {
      "cell_type": "code",
      "execution_count": null,
      "metadata": {
        "id": "qOsFWLoRzgrH"
      },
      "outputs": [],
      "source": [
        "class Product:\n",
        "    def __init__(self, price, discount):\n",
        "\n",
        "        self._price = price\n",
        "        self._discount = discount\n",
        "\n",
        "    def get_final_price(self):\n",
        "\n",
        "        discount_amount = self._price * (self._discount / 100)\n",
        "        final_price = self._price - discount_amount\n",
        "        return final_price\n",
        "\n",
        "product = Product(1000, 10)\n",
        "final_price = product.get_final_price()\n",
        "print(f\"The final price after applying the discount is: {final_price}\")\n"
      ]
    },
    {
      "cell_type": "markdown",
      "source": [
        "# 2 Car Class\n"
      ],
      "metadata": {
        "id": "sCPxHe8508uW"
      }
    },
    {
      "cell_type": "code",
      "source": [
        "class Car:\n",
        "  def __init__(self):\n",
        "    self._fuel_level = 0\n",
        "\n",
        "  def add_fuel(self,amount):\n",
        "      if amount > 0:\n",
        "        self._fuel_level += amount\n",
        "      else:\n",
        "        print(\"Amount must be positive..\")\n",
        "  def get_fuel_level(self):\n",
        "    return self._fuel_level\n",
        "\n",
        "car=Car()\n",
        "car.add_fuel(20)\n",
        "print(f\"Current fuel level units: {car.get_fuel_level()}\")"
      ],
      "metadata": {
        "id": "GgddULCF0w62"
      },
      "execution_count": null,
      "outputs": []
    },
    {
      "cell_type": "markdown",
      "source": [
        "# House Class"
      ],
      "metadata": {
        "id": "ImvKY3Uu5Wa_"
      }
    },
    {
      "cell_type": "code",
      "source": [
        "class House:\n",
        "  def __init__(self,owner_name,house_value):\n",
        "    self.__owner_name=owner_name\n",
        "    self.__house_value=house_value\n",
        "    self.__value = house_value\n",
        "\n",
        "  def set_value(self,value):\n",
        "    if value > 0:\n",
        "      self.__value=value\n",
        "    else:\n",
        "      raise ValueError(\"Value must be greater than 0.\")\n",
        "\n",
        "  # Move get_value outside of set_value to make it an instance method\n",
        "  def get_value(self):\n",
        "    return self.__value\n",
        "\n",
        "h= House(\"Meghan\",15000)\n",
        "h.set_value(2000000)\n",
        "print(f\"updated  the house value:\", h.get_value())"
      ],
      "metadata": {
        "id": "Pbntg0QT2sTn"
      },
      "execution_count": null,
      "outputs": []
    },
    {
      "cell_type": "markdown",
      "source": [
        "# 4.Laptop Class"
      ],
      "metadata": {
        "id": "6xDW4v2F_Ro2"
      }
    },
    {
      "cell_type": "code",
      "source": [
        "class Laptop:\n",
        "    def __init__(self, battery_life):\n",
        "\n",
        "        self.__battery_life = battery_life\n",
        "\n",
        "    def check_battery(self, hours):\n",
        "        \"\"\"Checks if the battery can last for the specified number of hours.\"\"\"\n",
        "        if hours <= self.__battery_life:\n",
        "            return f\"Battery is sufficient for {hours} hour(s).\"\n",
        "        else:\n",
        "            return f\"Battery is not sufficient. Remaining battery life: {self.__battery_life} hour(s).\"\n",
        "\n",
        "my_laptop = Laptop(5)\n",
        "\n",
        "\n",
        "task_hours = 3\n",
        "print(my_laptop.check_battery(task_hours))\n",
        "\n",
        "\n",
        "task_hours = 10\n",
        "print(my_laptop.check_battery(task_hours))\n",
        "\n"
      ],
      "metadata": {
        "id": "2wEnG9sU8kUQ"
      },
      "execution_count": null,
      "outputs": []
    },
    {
      "cell_type": "code",
      "source": [
        "class ATM:\n",
        "    def __init__(self):\n",
        "\n",
        "        self.__pin = None\n",
        "        self.__balance = 1200\n",
        "\n",
        "    def set_pin(self, pin):\n",
        "        \"\"\"Securely sets the ATM PIN.\"\"\"\n",
        "        if isinstance(pin, int) and 1000 <= pin <= 9999:  #\n",
        "            self.__pin = pin\n",
        "            return \"PIN set successfully.\"\n",
        "        else:\n",
        "            return \"Invalid PIN. Please enter a 4-digit number.\"\n",
        "\n",
        "    def check_balance(self, pin):\n",
        "        \"\"\"Checks the balance after verifying the PIN.\"\"\"\n",
        "        if pin == self.__pin:\n",
        "            return f\"Your current balance is: ${self.__balance:.2f}\"\n",
        "        else:\n",
        "            return \"Invalid PIN. Access denied.\"\n",
        "\n",
        "class ATM:\n",
        "    def __init__(self):\n",
        "\n",
        "        self.__pin = None\n",
        "        self.__balance = 1200\n",
        "\n",
        "    def set_pin(self, pin):\n",
        "        \"\"\"Securely sets the ATM PIN.\"\"\"\n",
        "        if isinstance(pin, int) and 1000 <= pin <= 9999:  #\n",
        "            self.__pin = pin\n",
        "            return \"PIN set successfully.\"\n",
        "        else:\n",
        "            return \"Invalid PIN. Please enter a 4-digit number.\"\n",
        "\n",
        "    def check_balance(self, pin):\n",
        "        \"\"\"Checks the balance after verifying the PIN.\"\"\"\n",
        "        if pin == self.__pin:\n",
        "            return f\"Your current balance is: ${self.__balance:.2f}\"\n",
        "        else:\n",
        "            return \"Invalid PIN. Access denied.\"\n",
        "\n",
        "my_atm = ATM()\n",
        "\n",
        "print(my_atm.set_pin(5027))\n",
        "\n",
        "print(my_atm.check_balance(5027))\n"
      ],
      "metadata": {
        "id": "UKVIj-wAAT6G"
      },
      "execution_count": null,
      "outputs": []
    },
    {
      "cell_type": "markdown",
      "source": [
        "Inheritance Questions:\n",
        "\n",
        "1. Create a base class Animal with a method make_sound(). Derive two\n",
        "subclasses Dog and Cat that override the method with barking and\n",
        "meowing sounds.\n",
        "\n",
        "Input: Dog().make_sound()\n",
        "\n",
        "Output: Bark"
      ],
      "metadata": {
        "id": "H-E0EDn_BRVf"
      }
    },
    {
      "cell_type": "code",
      "source": [
        "class Animal:\n",
        "    def make_sound(self):\n",
        "        print(\"Generic animal sound\")\n",
        "\n",
        "class Dog(Animal):\n",
        "    def make_sound(self):\n",
        "        print(\"Bark\")\n",
        "\n",
        "class Cat(Animal):\n",
        "    def make_sound(self):\n",
        "        print(\"Meow\")\n",
        "\n",
        "\n",
        "dog = Dog()\n",
        "cat = Cat()\n",
        "\n",
        "dog.make_sound()"
      ],
      "metadata": {
        "id": "hlKOGot4BGde"
      },
      "execution_count": null,
      "outputs": []
    },
    {
      "cell_type": "markdown",
      "source": [
        "2. Write a program to implement a Vehicle class with attributes brand\n",
        "and speed. Create subclasses Car and Bike that add their own\n",
        "attributes like fuel_type and gear_count.\n",
        "Input: Car(\"Toyota\", 120, \"Petrol\")\n",
        "Output: Toyota car runs at 120 km/h with Petrol fuel."
      ],
      "metadata": {
        "id": "q3peEbewCQ4G"
      }
    },
    {
      "cell_type": "code",
      "source": [
        "class Vehicle:\n",
        "    def __init__(self, brand, speed):\n",
        "        self.brand = brand\n",
        "        self.speed = speed\n",
        "\n",
        "    def display_info(self):\n",
        "        print(f\"{self.brand} vehicle runs at {self.speed} km/h.\")\n",
        "\n",
        "\n",
        "class Car(Vehicle):\n",
        "    def __init__(self, brand, speed, fuel_type):\n",
        "        super().__init__(brand, speed)  # Inherit from Vehicle\n",
        "        self.fuel_type = fuel_type\n",
        "\n",
        "    def display_info(self):\n",
        "        print(f\"{self.brand} car runs at {self.speed} km/h with {self.fuel_type} fuel.\")\n",
        "\n",
        "\n",
        "class Bike(Vehicle):\n",
        "    def __init__(self, brand, speed, gear_count):\n",
        "        super().__init__(brand, speed)  # Inherit from Vehicle\n",
        "        self.gear_count = gear_count\n",
        "\n",
        "    def display_info(self):\n",
        "        print(f\"{self.brand} bike runs at {self.speed} km/h with {self.gear_count} gears.\")\n",
        "\n",
        "my_car = Car(\"Toyota\", 120, \"Petrol\")\n",
        "\n",
        "my_car.display_info()"
      ],
      "metadata": {
        "id": "KENt2pAOCJTH"
      },
      "execution_count": null,
      "outputs": []
    },
    {
      "cell_type": "markdown",
      "source": [
        "3. Implement a class hierarchy for a library system. Create a base class\n",
        "LibraryItem with attributes title and author, and derive subclasses\n",
        "Book and Magazine with additional attributes like ISBN and issue_number.\n",
        "\n",
        "Input: Book(\"Python 101\", \"John Doe\", \"12345\")\n",
        "Output: Book: Python 101, Author: John Doe, ISBN: 12345\n",
        "\n"
      ],
      "metadata": {
        "id": "TfE83OfCDAVf"
      }
    },
    {
      "cell_type": "code",
      "source": [
        "class LibraryItem:\n",
        "    def __init__(self, title, author):\n",
        "        self.title = title\n",
        "        self.author = author\n",
        "\n",
        "    def __str__(self):\n",
        "        return f\"{self.__class__.__name__}: {self.title}, Author: {self.author}\"\n",
        "\n",
        "\n",
        "class Book(LibraryItem):\n",
        "    def __init__(self, title, author, isbn):\n",
        "        super().__init__(title, author)\n",
        "        self.isbn = isbn\n",
        "\n",
        "    def __str__(self):\n",
        "        return f\"{super().__str__()}, ISBN: {self.isbn}\"\n",
        "\n",
        "\n",
        "class Magazine(LibraryItem):\n",
        "    def __init__(self, title, author, issue_number):\n",
        "        super().__init__(title, author)\n",
        "        self.issue_number = issue_number\n",
        "\n",
        "    def __str__(self):\n",
        "        return f\"{super().__str__()}, Issue Number: {self.issue_number}\"\n",
        "\n",
        "\n",
        "# Example usage:\n",
        "book = Book(\"Python 101\", \"John Doe\", \"34598\")\n",
        "print(book)"
      ],
      "metadata": {
        "id": "8RoWDt0UCn5m"
      },
      "execution_count": null,
      "outputs": []
    },
    {
      "cell_type": "markdown",
      "source": [
        "4. Create a class Person with attributes name and age. Derive a\n",
        "subclass Employee that adds salary and job_title attributes. Display\n",
        "all details using a method.\n",
        "Input: Employee(\"Alice\", 30, 50000, \"Developer\")\n",
        "Output: Alice, 30 years old, earns 50000 as Developer.\n"
      ],
      "metadata": {
        "id": "TgAX7otKD3Qm"
      }
    },
    {
      "cell_type": "code",
      "source": [
        "class Person:\n",
        "    def __init__(self, name, age):\n",
        "        self.name = name\n",
        "        self.age = age\n",
        "\n",
        "class Employee(Person):\n",
        "    def __init__(self, name, age, salary, job_title):\n",
        "        super().__init__(name, age)\n",
        "        self.salary = salary\n",
        "        self.job_title = job_title\n",
        "\n",
        "    def display_details(self):\n",
        "        print(f\"{self.name}, {self.age} years old, earns {self.salary} as {self.job_title}.\")\n",
        "\n",
        "employee = Employee(\"Alice\", 30, 50000, \"Developer\")\n",
        "\n",
        "employee.display_details()\n"
      ],
      "metadata": {
        "id": "nPLJO17GDwYQ"
      },
      "execution_count": null,
      "outputs": []
    },
    {
      "cell_type": "markdown",
      "source": [
        "5. Implement multiple inheritance by creating classes Flyable and\n",
        "Swimmable. Derive a class Duck that inherits from both and\n",
        "implements flying and swimming behaviors.\n",
        "Input: Duck().fly(), Duck().swim()\n",
        "Output: Duck is flying. Duck is swimming."
      ],
      "metadata": {
        "id": "TxuHE-6BFPKu"
      }
    },
    {
      "cell_type": "code",
      "source": [
        "class Flyable:\n",
        "    def fly(self):\n",
        "        print(\"Duck is flying.\")\n",
        "\n",
        "class Swimmable:\n",
        "    def swim(self):\n",
        "        print(\"Duck is swimming.\")\n",
        "\n",
        "class Duck(Flyable, Swimmable):\n",
        "    pass\n",
        "\n",
        "duck = Duck()\n",
        "\n",
        "\n",
        "duck.fly()\n",
        "duck.swim()"
      ],
      "metadata": {
        "id": "vfQYzOimE0B-"
      },
      "execution_count": null,
      "outputs": []
    }
  ]
}